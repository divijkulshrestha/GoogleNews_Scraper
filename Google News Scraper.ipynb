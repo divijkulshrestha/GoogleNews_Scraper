{
 "cells": [
  {
   "cell_type": "markdown",
   "metadata": {},
   "source": [
    "# Google News Scraper"
   ]
  },
  {
   "cell_type": "code",
   "execution_count": 123,
   "metadata": {},
   "outputs": [],
   "source": [
    "import urllib.request\n",
    "from bs4 import BeautifulSoup\n",
    "from newspaper import Article\n",
    "import ssl\n",
    "import pandas as pd\n",
    "import requests"
   ]
  },
  {
   "cell_type": "code",
   "execution_count": 100,
   "metadata": {},
   "outputs": [],
   "source": [
    "url = 'https://news.google.com/topics/CAAqJggKIiBDQkFTRWdvSUwyMHZNRGx6TVdZU0FtVnVHZ0pKVGlnQVAB?hl=en-IN&gl=IN&ceid=IN%3Aen'"
   ]
  },
  {
   "cell_type": "code",
   "execution_count": 161,
   "metadata": {},
   "outputs": [],
   "source": [
    "headers = {\n",
    "    'User-Agent': 'Mozilla/5.0'\n",
    "}\n",
    "\n",
    "r = requests.get(url = url, headers = headers)"
   ]
  },
  {
   "cell_type": "code",
   "execution_count": 103,
   "metadata": {},
   "outputs": [],
   "source": [
    "soup = BeautifulSoup(r.text, 'html.parser')"
   ]
  },
  {
   "cell_type": "code",
   "execution_count": 145,
   "metadata": {},
   "outputs": [],
   "source": [
    "idV = []\n",
    "titleV = []\n",
    "linkV = []\n",
    "summaryV = []\n",
    "datetimeV = []"
   ]
  },
  {
   "cell_type": "code",
   "execution_count": 158,
   "metadata": {},
   "outputs": [],
   "source": [
    "#Creating a table of details of main news articles\n",
    "id = 0\n",
    "for x in soup.findAll(\"div\", {'jscontroller':'uR17Jf' }):\n",
    "    for y in x.findAll(\"div\", class_ = \"\"\"xrnccd F6Welf R7GTQ keNKEd j7vNaf\"\"\"):\n",
    "\n",
    "            link = y.find('a')['href']\n",
    "            base_url = 'https://news.google.com' + link[1::]\n",
    "            linkV.append(base_url)\n",
    "        \n",
    "            title = y.find('h3')\n",
    "            titleV.append(title.text)\n",
    "            \n",
    "            article = Article(base_url, language = \"en\")\n",
    "            article.download()\n",
    "            article.parse()\n",
    "            article.nlp()\n",
    "            summaryV.append(article.summary)\n",
    " \n",
    "                        \n",
    "            idV.append(id)\n",
    "            id = id+1\n",
    "            \n",
    "            for z in y.findAll('time'):\n",
    "                if z['datetime'] is not None:\n",
    "                    datetimeV.append(z['datetime'])\n",
    "                    break"
   ]
  },
  {
   "cell_type": "code",
   "execution_count": 194,
   "metadata": {},
   "outputs": [],
   "source": [
    "typeV = ['Main Article'] * len(titleV)\n",
    "data = list(zip(idV,titleV, summaryV, linkV, datetimeV, typeV))\n",
    "df = pd.DataFrame(data, columns = ['Headline ID', 'Title', 'Summary', 'Link','Time', 'Type'])\n",
    "df = df.set_index(['Headline ID'])"
   ]
  },
  {
   "cell_type": "code",
   "execution_count": 195,
   "metadata": {},
   "outputs": [
    {
     "data": {
      "text/html": [
       "<div>\n",
       "<style scoped>\n",
       "    .dataframe tbody tr th:only-of-type {\n",
       "        vertical-align: middle;\n",
       "    }\n",
       "\n",
       "    .dataframe tbody tr th {\n",
       "        vertical-align: top;\n",
       "    }\n",
       "\n",
       "    .dataframe thead th {\n",
       "        text-align: right;\n",
       "    }\n",
       "</style>\n",
       "<table border=\"1\" class=\"dataframe\">\n",
       "  <thead>\n",
       "    <tr style=\"text-align: right;\">\n",
       "      <th></th>\n",
       "      <th>Title</th>\n",
       "      <th>Summary</th>\n",
       "      <th>Link</th>\n",
       "      <th>Time</th>\n",
       "      <th>Type</th>\n",
       "    </tr>\n",
       "    <tr>\n",
       "      <th>Headline ID</th>\n",
       "      <th></th>\n",
       "      <th></th>\n",
       "      <th></th>\n",
       "      <th></th>\n",
       "      <th></th>\n",
       "    </tr>\n",
       "  </thead>\n",
       "  <tbody>\n",
       "    <tr>\n",
       "      <th>0</th>\n",
       "      <td>Govt move will help pharma industry, boost hea...</td>\n",
       "      <td>The announcement by the Government will help r...</td>\n",
       "      <td>https://news.google.com/articles/CAIiEJBWQLkZO...</td>\n",
       "      <td>2020-03-22T08:02:03Z</td>\n",
       "      <td>Main Article</td>\n",
       "    </tr>\n",
       "    <tr>\n",
       "      <th>0</th>\n",
       "      <td>Markets Trim Losses After Sensex Sheds Over 3,...</td>\n",
       "      <td>At 2:22 pm, the Sensex traded 3,605.27 points ...</td>\n",
       "      <td>https://news.google.com/articles/CAIiEBtWN3h1X...</td>\n",
       "      <td>2020-03-23T09:02:00Z</td>\n",
       "      <td>Main Article</td>\n",
       "    </tr>\n",
       "    <tr>\n",
       "      <th>1</th>\n",
       "      <td>Terror attacks in 1993 and 2008: Two instances...</td>\n",
       "      <td>Authorities, for now, have decided against shu...</td>\n",
       "      <td>https://news.google.com/articles/CAIiEKuMqibhr...</td>\n",
       "      <td>2020-03-22T15:15:50Z</td>\n",
       "      <td>Main Article</td>\n",
       "    </tr>\n",
       "    <tr>\n",
       "      <th>2</th>\n",
       "      <td>Buzzing stocks: Vodafone Idea, YES Bank, HDFC ...</td>\n",
       "      <td>NEW DELHI: Vodafone Idea with over 0.45 crore ...</td>\n",
       "      <td>https://news.google.com/articles/CBMijQFodHRwc...</td>\n",
       "      <td>2020-03-23T03:56:00Z</td>\n",
       "      <td>Main Article</td>\n",
       "    </tr>\n",
       "    <tr>\n",
       "      <th>3</th>\n",
       "      <td>From Maruti to Hyundai: Coronavirus in India f...</td>\n",
       "      <td>India's biggest automaker Maruti Suzuki India ...</td>\n",
       "      <td>https://news.google.com/articles/CAIiEDmFzPC5t...</td>\n",
       "      <td>2020-03-23T03:04:49Z</td>\n",
       "      <td>Main Article</td>\n",
       "    </tr>\n",
       "  </tbody>\n",
       "</table>\n",
       "</div>"
      ],
      "text/plain": [
       "                                                         Title  \\\n",
       "Headline ID                                                      \n",
       "0            Govt move will help pharma industry, boost hea...   \n",
       "0            Markets Trim Losses After Sensex Sheds Over 3,...   \n",
       "1            Terror attacks in 1993 and 2008: Two instances...   \n",
       "2            Buzzing stocks: Vodafone Idea, YES Bank, HDFC ...   \n",
       "3            From Maruti to Hyundai: Coronavirus in India f...   \n",
       "\n",
       "                                                       Summary  \\\n",
       "Headline ID                                                      \n",
       "0            The announcement by the Government will help r...   \n",
       "0            At 2:22 pm, the Sensex traded 3,605.27 points ...   \n",
       "1            Authorities, for now, have decided against shu...   \n",
       "2            NEW DELHI: Vodafone Idea with over 0.45 crore ...   \n",
       "3            India's biggest automaker Maruti Suzuki India ...   \n",
       "\n",
       "                                                          Link  \\\n",
       "Headline ID                                                      \n",
       "0            https://news.google.com/articles/CAIiEJBWQLkZO...   \n",
       "0            https://news.google.com/articles/CAIiEBtWN3h1X...   \n",
       "1            https://news.google.com/articles/CAIiEKuMqibhr...   \n",
       "2            https://news.google.com/articles/CBMijQFodHRwc...   \n",
       "3            https://news.google.com/articles/CAIiEDmFzPC5t...   \n",
       "\n",
       "                             Time          Type  \n",
       "Headline ID                                      \n",
       "0            2020-03-22T08:02:03Z  Main Article  \n",
       "0            2020-03-23T09:02:00Z  Main Article  \n",
       "1            2020-03-22T15:15:50Z  Main Article  \n",
       "2            2020-03-23T03:56:00Z  Main Article  \n",
       "3            2020-03-23T03:04:49Z  Main Article  "
      ]
     },
     "execution_count": 195,
     "metadata": {},
     "output_type": "execute_result"
    }
   ],
   "source": [
    "df.head()"
   ]
  },
  {
   "cell_type": "code",
   "execution_count": 208,
   "metadata": {},
   "outputs": [],
   "source": [
    "#function to search main articles contianing a given keyword\n",
    "def search_main_articles(word):\n",
    "    count = 0\n",
    "    print(\"News Articles with relevant search terms are: \")\n",
    "    for i in df['Link']:\n",
    "        article = Article(i, language = \"en\")\n",
    "        article.download()\n",
    "        article.parse()\n",
    "        article.nlp()\n",
    "        if word in article.text.split():\n",
    "            print(i + \"\\n-----------\")\n",
    "            count += 1\n",
    "    if count == 0:\n",
    "        print(\"No news articles found containing this term\")"
   ]
  },
  {
   "cell_type": "code",
   "execution_count": 209,
   "metadata": {},
   "outputs": [
    {
     "name": "stdout",
     "output_type": "stream",
     "text": [
      "News Articles with relevant search terms are: \n",
      "https://news.google.com/articles/CAIiEJBWQLkZO6Xn8GSm6Gus-RQqGQgEKhAIACoHCAowwJmVCzD5-KoDML_VxQY?hl=en-IN&gl=IN&ceid=IN%3Aen\n",
      "-----------\n",
      "https://news.google.com/articles/CAIiEKuMqibhrd0bS3h6M9qbBxEqGQgEKhAIACoHCAow2pqGCzD954MDMJzyigY?hl=en-IN&gl=IN&ceid=IN%3Aen\n",
      "-----------\n"
     ]
    }
   ],
   "source": [
    "#for example, searching for \"Sensex\", will give us links to articles containing this word\n",
    "search_main_articles(\"Sensex\")"
   ]
  },
  {
   "cell_type": "code",
   "execution_count": 165,
   "metadata": {},
   "outputs": [],
   "source": [
    "#finding sub articles' data\n",
    "id = 0\n",
    "for x in soup.findAll(\"div\", {'jscontroller':'uR17Jf' }):\n",
    "    for y in x.findAll(\"div\", class_ = \"\"\"SbNwzf\"\"\"):\n",
    "        \n",
    "            link = y.find('a')['href']\n",
    "            base_url = 'https://news.google.com' + link[1::]\n",
    "            linkV.append(base_url)\n",
    "        \n",
    "            title = y.find('h4')\n",
    "            titleV.append(title.text)\n",
    "            \n",
    "            article = Article(base_url, language = \"en\")\n",
    "            article.download()\n",
    "            article.parse()\n",
    "            article.nlp()\n",
    "            summaryV.append(article.summary)\n",
    "            \n",
    "            for z in y.findAll('time'):\n",
    "                if z['datetime'] is not None:\n",
    "                    datetimeV.append(z['datetime'])\n",
    "                    break\n",
    "                    \n",
    "            idV.append(id)\n",
    "            id = id+1"
   ]
  },
  {
   "cell_type": "code",
   "execution_count": 191,
   "metadata": {},
   "outputs": [],
   "source": [
    "typeV = ['Sub Article'] * len(titleV)\n",
    "data = list(zip(idV,titleV, summaryV, linkV, datetimeV, typeV))\n",
    "df1 = pd.DataFrame(data, columns = ['Headline ID', 'Title', 'Summary', 'Link', 'Time', 'Type'])\n",
    "df1 = df1.set_index(['Headline ID'])"
   ]
  },
  {
   "cell_type": "code",
   "execution_count": 192,
   "metadata": {},
   "outputs": [
    {
     "data": {
      "text/html": [
       "<div>\n",
       "<style scoped>\n",
       "    .dataframe tbody tr th:only-of-type {\n",
       "        vertical-align: middle;\n",
       "    }\n",
       "\n",
       "    .dataframe tbody tr th {\n",
       "        vertical-align: top;\n",
       "    }\n",
       "\n",
       "    .dataframe thead th {\n",
       "        text-align: right;\n",
       "    }\n",
       "</style>\n",
       "<table border=\"1\" class=\"dataframe\">\n",
       "  <thead>\n",
       "    <tr style=\"text-align: right;\">\n",
       "      <th></th>\n",
       "      <th>Title</th>\n",
       "      <th>Summary</th>\n",
       "      <th>Link</th>\n",
       "      <th>Time</th>\n",
       "      <th>Type</th>\n",
       "    </tr>\n",
       "    <tr>\n",
       "      <th>Headline ID</th>\n",
       "      <th></th>\n",
       "      <th></th>\n",
       "      <th></th>\n",
       "      <th></th>\n",
       "      <th></th>\n",
       "    </tr>\n",
       "  </thead>\n",
       "  <tbody>\n",
       "    <tr>\n",
       "      <th>0</th>\n",
       "      <td>Sensex hits circuit breaker on selling tornado...</td>\n",
       "      <td>Indications of a sharp decline on opening were...</td>\n",
       "      <td>https://news.google.com/articles/CAIiEA3eRQnGu...</td>\n",
       "      <td>2020-03-23T07:07:37Z</td>\n",
       "      <td>Sub Article</td>\n",
       "    </tr>\n",
       "    <tr>\n",
       "      <th>1</th>\n",
       "      <td>Sebi, exchanges clarify markets to function no...</td>\n",
       "      <td>MUMBAI : The Securities and Exchange Board of ...</td>\n",
       "      <td>https://news.google.com/articles/CAIiEBE6wCVby...</td>\n",
       "      <td>2020-03-22T15:28:45Z</td>\n",
       "      <td>Sub Article</td>\n",
       "    </tr>\n",
       "    <tr>\n",
       "      <th>2</th>\n",
       "      <td>Coronavirus: HDFC Bank reduces banking hours, ...</td>\n",
       "      <td>HDFC Bank has changed its working hours and wi...</td>\n",
       "      <td>https://news.google.com/articles/CBMifmh0dHBzO...</td>\n",
       "      <td>2020-03-23T07:18:03Z</td>\n",
       "      <td>Sub Article</td>\n",
       "    </tr>\n",
       "    <tr>\n",
       "      <th>3</th>\n",
       "      <td>Maruti Suzuki, Hero, Tata, Bajaj Announces Pla...</td>\n",
       "      <td>“The company will shut production and office o...</td>\n",
       "      <td>https://news.google.com/articles/CBMiXWh0dHBzO...</td>\n",
       "      <td>2020-03-22T14:30:00Z</td>\n",
       "      <td>Sub Article</td>\n",
       "    </tr>\n",
       "    <tr>\n",
       "      <th>4</th>\n",
       "      <td>COVID-19: FMCG firms reduce hand sanitiser pri...</td>\n",
       "      <td>FMCG companies have reduced the prices of hand...</td>\n",
       "      <td>https://news.google.com/articles/CAIiEJZtUFkNf...</td>\n",
       "      <td>2020-03-23T03:53:03Z</td>\n",
       "      <td>Sub Article</td>\n",
       "    </tr>\n",
       "  </tbody>\n",
       "</table>\n",
       "</div>"
      ],
      "text/plain": [
       "                                                         Title  \\\n",
       "Headline ID                                                      \n",
       "0            Sensex hits circuit breaker on selling tornado...   \n",
       "1            Sebi, exchanges clarify markets to function no...   \n",
       "2            Coronavirus: HDFC Bank reduces banking hours, ...   \n",
       "3            Maruti Suzuki, Hero, Tata, Bajaj Announces Pla...   \n",
       "4            COVID-19: FMCG firms reduce hand sanitiser pri...   \n",
       "\n",
       "                                                       Summary  \\\n",
       "Headline ID                                                      \n",
       "0            Indications of a sharp decline on opening were...   \n",
       "1            MUMBAI : The Securities and Exchange Board of ...   \n",
       "2            HDFC Bank has changed its working hours and wi...   \n",
       "3            “The company will shut production and office o...   \n",
       "4            FMCG companies have reduced the prices of hand...   \n",
       "\n",
       "                                                          Link  \\\n",
       "Headline ID                                                      \n",
       "0            https://news.google.com/articles/CAIiEA3eRQnGu...   \n",
       "1            https://news.google.com/articles/CAIiEBE6wCVby...   \n",
       "2            https://news.google.com/articles/CBMifmh0dHBzO...   \n",
       "3            https://news.google.com/articles/CBMiXWh0dHBzO...   \n",
       "4            https://news.google.com/articles/CAIiEJZtUFkNf...   \n",
       "\n",
       "                             Time         Type  \n",
       "Headline ID                                     \n",
       "0            2020-03-23T07:07:37Z  Sub Article  \n",
       "1            2020-03-22T15:28:45Z  Sub Article  \n",
       "2            2020-03-23T07:18:03Z  Sub Article  \n",
       "3            2020-03-22T14:30:00Z  Sub Article  \n",
       "4            2020-03-23T03:53:03Z  Sub Article  "
      ]
     },
     "execution_count": 192,
     "metadata": {},
     "output_type": "execute_result"
    }
   ],
   "source": [
    "df1.head()"
   ]
  },
  {
   "cell_type": "code",
   "execution_count": 204,
   "metadata": {},
   "outputs": [],
   "source": [
    "#function to search sub articles contianing a given keyword\n",
    "def search_sub_articles(word):\n",
    "    count = 0\n",
    "    print(\"News Articles with relevant search terms are: \")\n",
    "    for i in df1['Link']:\n",
    "        article = Article(i, language = \"en\")\n",
    "        article.download()\n",
    "        article.parse()\n",
    "        article.nlp()\n",
    "        if word in article.text.split():\n",
    "            print(i + \"\\n-----------\")\n",
    "            count += 1\n",
    "    if count == 0:\n",
    "        print(\"No news articles found containing this term\")\n",
    "    "
   ]
  },
  {
   "cell_type": "code",
   "execution_count": 210,
   "metadata": {},
   "outputs": [
    {
     "name": "stdout",
     "output_type": "stream",
     "text": [
      "News Articles with relevant search terms are: \n",
      "https://news.google.com/articles/CAIiEJZtUFkNfI9rXOhwTLAH2z0qGQgEKhAIACoHCAowouTcCjDl8M4BMJjvvQY?hl=en-IN&gl=IN&ceid=IN%3Aen\n",
      "-----------\n",
      "https://news.google.com/articles/CBMirgFodHRwczovL2Vjb25vbWljdGltZXMuaW5kaWF0aW1lcy5jb20vdGVjaC9pbnRlcm5ldC9jb3JvbmF2aXJ1cy1vdXRicmVhay10ZWxjb3Mtd2FudC1hbWF6b24tbmV0ZmxpeC15b3V0dWJlLXRvLWVhc2UtcHJlc3N1cmUtb24tbmV0d29yay1pbmZyYXN0cnVjdHVyZS9hcnRpY2xlc2hvdy83NDc2NjM4NS5jbXPSAakBaHR0cHM6Ly9tLmVjb25vbWljdGltZXMuY29tL3RlY2gvaW50ZXJuZXQvY29yb25hdmlydXMtb3V0YnJlYWstdGVsY29zLXdhbnQtYW1hem9uLW5ldGZsaXgteW91dHViZS10by1lYXNlLXByZXNzdXJlLW9uLW5ldHdvcmstaW5mcmFzdHJ1Y3R1cmUvYW1wX2FydGljbGVzaG93Lzc0NzY2Mzg1LmNtcw?hl=en-IN&gl=IN&ceid=IN%3Aen\n",
      "-----------\n"
     ]
    }
   ],
   "source": [
    "search_sub_articles(\"surge\")"
   ]
  },
  {
   "cell_type": "code",
   "execution_count": null,
   "metadata": {},
   "outputs": [],
   "source": []
  }
 ],
 "metadata": {
  "kernelspec": {
   "display_name": "googlenews",
   "language": "python",
   "name": "googlenews"
  },
  "language_info": {
   "codemirror_mode": {
    "name": "ipython",
    "version": 3
   },
   "file_extension": ".py",
   "mimetype": "text/x-python",
   "name": "python",
   "nbconvert_exporter": "python",
   "pygments_lexer": "ipython3",
   "version": "3.7.3"
  }
 },
 "nbformat": 4,
 "nbformat_minor": 4
}
